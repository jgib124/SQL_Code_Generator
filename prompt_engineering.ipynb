{
 "cells": [
  {
   "cell_type": "code",
   "execution_count": null,
   "metadata": {},
   "outputs": [],
   "source": [
    "import sys\n",
    "!{sys.executable} -m pip install --upgrade pip\n",
    "!{sys.executable} -m pip install --disable-pip-version-check torch==1.13.1 torchdata==0.5.1 --quiet\n",
    "!{sys.executable} -m pip install transformers==4.27.2 --quiet"
   ]
  },
  {
   "cell_type": "code",
   "execution_count": null,
   "metadata": {},
   "outputs": [],
   "source": [
    "from transformers import AutoModelForSeq2SeqLM, AutoTokenizer, GenerationConfig\n",
    "\n",
    "hf_model_name = \"google/flan-t5-base\"\n",
    "model = AutoModelForSeq2SeqLM.from_pretrained(hf_model_name)\n",
    "tokenizer = AutoTokenizer.from_pretrained(hf_model_name, use_fast=True)\n",
    "\n",
    "def inference(prompt : str):\n",
    "    input_tokenized = tokenizer(prompt, return_tensors=\"pt\")\n",
    "    model_outputs = model.generate(input_tokenized['input_ids'], max_new_tokens=250)\n",
    "    model_output_decoded = tokenizer.decode(model_outputs[0], skip_special_tokens=True)\n",
    "\n",
    "    return model_output_decoded"
   ]
  },
  {
   "cell_type": "markdown",
   "metadata": {},
   "source": [
    "# Prompt Engineering for SQL Query Generation\n",
    "\n",
    "### Zero-Shot\n",
    "\n",
    "### Few-Shot\n",
    "\n",
    "### Chain-of-Thought\n",
    "\n",
    "### Self-Consistency\n",
    "\n",
    "### Generate Knowledge Prompting\n",
    "\n",
    "### Prompt Chaining\n",
    "\n",
    "### Tree of Thoughts\n",
    "\n",
    "### RAG\n"
   ]
  },
  {
   "cell_type": "markdown",
   "metadata": {},
   "source": []
  }
 ],
 "metadata": {
  "kernelspec": {
   "display_name": "base",
   "language": "python",
   "name": "python3"
  },
  "language_info": {
   "name": "python",
   "version": "3.9.16"
  }
 },
 "nbformat": 4,
 "nbformat_minor": 2
}
